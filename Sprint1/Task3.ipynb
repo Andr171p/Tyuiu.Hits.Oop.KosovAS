{
 "cells": [
  {
   "cell_type": "markdown",
   "metadata": {},
   "source": [
    "<h1 style=\"color:DodgerBlue\">Индивидальный проект</h1>"
   ]
  },
  {
   "cell_type": "markdown",
   "metadata": {},
   "source": [
    "<h2 style=\"color:DodgerBlue\">Название проекта:</h2>\n",
    "\n",
    "----\n",
    "\n",
    "### Вариант задания \n"
   ]
  },
  {
   "cell_type": "markdown",
   "metadata": {},
   "source": [
    "<h2 style=\"color:DodgerBlue\">Описание проекта:</h2>\n",
    "\n",
    "----\n",
    "\n",
    "[ваш текст]\n",
    "\n",
    "#### Дополнительное задание\n",
    "Добавьте к сущестующим классам конструктора классов с использованием гетторов и сетторов и реализуйте взаимодействие объектов между собой"
   ]
  },
  {
   "cell_type": "markdown",
   "metadata": {},
   "source": [
    "<h2 style=\"color:DodgerBlue\">Реализация:</h2>\n",
    "\n",
    "----"
   ]
  },
  {
   "cell_type": "markdown",
   "metadata": {},
   "source": [
    "Класс Item:"
   ]
  },
  {
   "cell_type": "code",
   "execution_count": 1,
   "metadata": {
    "dotnet_interactive": {
     "language": "csharp"
    },
    "polyglot_notebook": {
     "kernelName": "csharp"
    }
   },
   "outputs": [],
   "source": [
    "using System;\n",
    "\n",
    "\n",
    "public class Item\n",
    "{\n",
    "    public int ItemId { get; set; }\n",
    "    public string Name { get; set; }\n",
    "    public decimal Price { get; set; }\n",
    "\n",
    "    public Item(int itemId, string name, decimal price)\n",
    "    {\n",
    "        ItemId = itemId;\n",
    "        Name = name;\n",
    "        Price = price;\n",
    "    }\n",
    "\n",
    "    public virtual string GetDetails()\n",
    "    {\n",
    "        return $\"ID: {ItemId}, Name: {Name}, Price: {Price:C}\";\n",
    "    }\n",
    "\n",
    "    public virtual decimal CalculateDiscount()\n",
    "    {\n",
    "        return 0;\n",
    "    }\n",
    "\n",
    "    public virtual void ApplyDiscount(decimal discount)\n",
    "    {\n",
    "        Price -= discount;\n",
    "    }\n",
    "}\n"
   ]
  },
  {
   "cell_type": "markdown",
   "metadata": {},
   "source": [
    "Класс SingleItem:"
   ]
  },
  {
   "cell_type": "code",
   "execution_count": 2,
   "metadata": {
    "dotnet_interactive": {
     "language": "csharp"
    },
    "polyglot_notebook": {
     "kernelName": "csharp"
    }
   },
   "outputs": [],
   "source": [
    "using System;\n",
    "\n",
    "\n",
    "public class SingleItem: Item\n",
    "{\n",
    "    public string UnitMeasure { get; set; }\n",
    "\n",
    "    public SingleItem(\n",
    "        int itemId, string name, decimal price, string unitMeasure\n",
    "        ) : base(itemId, name, price)\n",
    "    {\n",
    "        UnitMeasure = unitMeasure;\n",
    "    }\n",
    "\n",
    "    public override string GetDetails()\n",
    "    {\n",
    "       return base.GetDetails() + $\", Unit Measure: {UnitMeasure}\";\n",
    "    }\n",
    "}"
   ]
  },
  {
   "cell_type": "markdown",
   "metadata": {},
   "source": [
    "Класс PackageItem:"
   ]
  },
  {
   "cell_type": "code",
   "execution_count": 3,
   "metadata": {
    "dotnet_interactive": {
     "language": "csharp"
    },
    "polyglot_notebook": {
     "kernelName": "csharp"
    }
   },
   "outputs": [],
   "source": [
    "using System;\n",
    "\n",
    "\n",
    "public class PackageItem: Item\n",
    "{\n",
    "    public int QuantityPerPackage { get; set; }\n",
    "\n",
    "    public PackageItem(int itemId, string name, decimal price, int quantityPerPackage) : base(itemId, name, price)\n",
    "    {\n",
    "        QuantityPerPackage = quantityPerPackage;\n",
    "    }\n",
    "\n",
    "    public override decimal CalculateDiscount()\n",
    "    {\n",
    "        return Price * QuantityPerPackage * 0.1m;\n",
    "    }\n",
    "}"
   ]
  },
  {
   "cell_type": "markdown",
   "metadata": {},
   "source": [
    "Класс SpecialItem:"
   ]
  },
  {
   "cell_type": "code",
   "execution_count": 4,
   "metadata": {
    "dotnet_interactive": {
     "language": "csharp"
    },
    "polyglot_notebook": {
     "kernelName": "csharp"
    }
   },
   "outputs": [],
   "source": [
    "using System;\n",
    "\n",
    "\n",
    "public class SpecialItem : Item\n",
    "{\n",
    "    public DateTime DiscountExpirationDate { get; set; }\n",
    "\n",
    "    public SpecialItem(int itemId, string name, decimal price, DateTime discountExpirationDate) \n",
    "        : base(itemId, name, price)\n",
    "    {\n",
    "        DiscountExpirationDate = discountExpirationDate;\n",
    "    }\n",
    "\n",
    "    public override void ApplyDiscount(decimal discount)\n",
    "    {\n",
    "        if (DateTime.Now <= DiscountExpirationDate)\n",
    "        {\n",
    "            Price -= discount;\n",
    "        }\n",
    "        else\n",
    "        {\n",
    "            Console.WriteLine(\"Скидка не может быть применена, так как срок действия истек.\");\n",
    "        }\n",
    "    }\n",
    "}"
   ]
  },
  {
   "cell_type": "code",
   "execution_count": 5,
   "metadata": {
    "dotnet_interactive": {
     "language": "csharp"
    },
    "polyglot_notebook": {
     "kernelName": "csharp"
    }
   },
   "outputs": [],
   "source": [
    "Item singleItem = new SingleItem(1, \"Apple\", 1.00m, \"kg\");\n",
    "Item packageItem = new PackageItem(2, \"Cookies\", 5.00m, 10);\n",
    "Item specialItem = new SpecialItem(3, \"Special Item\", 20.00m, DateTime.Now.AddDays(5));\n",
    "\n",
    "Console.WriteLine(singleItem.GetDetails());\n",
    "Console.WriteLine(packageItem.GetDetails());\n",
    "Console.WriteLine(specialItem.GetDetails());\n",
    "\n",
    "Console.WriteLine($\"Discount for PackageItem: {packageItem.CalculateDiscount():C}\");\n",
    "        \n",
    "specialItem.ApplyDiscount(5);\n",
    "Console.WriteLine($\"Price after applying discount: {specialItem.Price:C}\");"
   ]
  },
  {
   "cell_type": "code",
   "execution_count": 6,
   "metadata": {
    "dotnet_interactive": {
     "language": "csharp"
    },
    "polyglot_notebook": {
     "kernelName": "csharp"
    }
   },
   "outputs": [],
   "source": [
    "\n",
    "using System;\n",
    "using System.Collections.Generic;\n",
    "\n",
    "\n",
    "public class Inventory\n",
    "{\n",
    "    public int WarehouseId { get; set; }\n",
    "    public string WarehouseName { get; set; }\n",
    "    public int StorageCapacity { get; set; }\n",
    "    private List<string> items;\n",
    "\n",
    "    public Inventory(int warehouseId, string warehouseName, int storageCapacity)\n",
    "    {\n",
    "        WarehouseId = warehouseId;\n",
    "        WarehouseName = warehouseName;\n",
    "        StorageCapacity = storageCapacity;\n",
    "        items = new List<string>();\n",
    "    }\n",
    "\n",
    "    public virtual string GetStorageStatus()\n",
    "    {\n",
    "        return $\"Warehouse {WarehouseName} (ID: {WarehouseId}) has {StorageCapacity - items.Count} free spaces.\";\n",
    "    }\n",
    "\n",
    "    public virtual void AddItem(string item)\n",
    "    {\n",
    "        if (items.Count < StorageCapacity)\n",
    "        {\n",
    "            items.Add(item);\n",
    "            Console.WriteLine($\"Item '{item}' added to {WarehouseName}.\");\n",
    "        }\n",
    "        else\n",
    "        {\n",
    "            Console.WriteLine($\"No space available in {WarehouseName} to add item '{item}'.\");\n",
    "        }\n",
    "    }\n",
    "\n",
    "    public virtual void RemoveItem(string item)\n",
    "    {\n",
    "        if (items.Remove(item))\n",
    "        {\n",
    "            Console.WriteLine($\"Item '{item}' removed from {WarehouseName}.\");\n",
    "        }\n",
    "        else\n",
    "        {\n",
    "            Console.WriteLine($\"Item '{item}' not found in {WarehouseName}.\");\n",
    "        }\n",
    "    }\n",
    "}\n",
    "\n",
    "\n",
    "public class PersonalInventory : Inventory\n",
    "{\n",
    "    public string OwnerName { get; set; }\n",
    "\n",
    "    public PersonalInventory(int warehouseId, string warehouseName, int storageCapacity, string ownerName)\n",
    "        : base(warehouseId, warehouseName, storageCapacity)\n",
    "    {\n",
    "        OwnerName = ownerName;\n",
    "    }\n",
    "\n",
    "    public override string GetStorageStatus()\n",
    "    {\n",
    "        return $\"{base.GetStorageStatus()} Owner: {OwnerName}.\";\n",
    "    }\n",
    "}\n",
    "\n",
    "\n",
    "public class GroupInventory : Inventory\n",
    "{\n",
    "    public string ProductGroup { get; set; }\n",
    "\n",
    "    public GroupInventory(int warehouseId, string warehouseName, int storageCapacity, string productGroup)\n",
    "        : base(warehouseId, warehouseName, storageCapacity)\n",
    "    {\n",
    "        ProductGroup = productGroup;\n",
    "    }\n",
    "\n",
    "    public override void AddItem(string item)\n",
    "    {\n",
    "        base.AddItem(item);\n",
    "        Console.WriteLine($\"Item '{item}' belongs to the group '{ProductGroup}'.\");\n",
    "    }\n",
    "}\n",
    "\n",
    "\n",
    "public class AutomatedInventory : Inventory\n",
    "{\n",
    "    public string AutomationLevel { get; set; }\n",
    "\n",
    "    public AutomatedInventory(int warehouseId, string warehouseName, int storageCapacity, string automationLevel)\n",
    "        : base(warehouseId, warehouseName, storageCapacity)\n",
    "    {\n",
    "        AutomationLevel = automationLevel;\n",
    "    }\n",
    "\n",
    "    public override void RemoveItem(string item)\n",
    "    {\n",
    "        base.RemoveItem(item);\n",
    "        Console.WriteLine($\"Automated removal of item '{item}' at level '{AutomationLevel}'.\");\n",
    "    }\n",
    "}\n",
    "\n",
    "\n",
    "\n",
    "var personalInventory = new PersonalInventory(1, \"Personal Warehouse\", 5, \"John Doe\");\n",
    "personalInventory.AddItem(\"Book\");\n",
    "personalInventory.AddItem(\"Laptop\");\n",
    "Console.WriteLine(personalInventory.GetStorageStatus());\n",
    "\n",
    "var groupInventory = new GroupInventory(2, \"Group Warehouse\", 10, \"Electronics\");\n",
    "groupInventory.AddItem(\"TV\");\n",
    "groupInventory.AddItem(\"Radio\");\n",
    "Console.WriteLine(groupInventory.GetStorageStatus());\n",
    "\n",
    "var automatedInventory = new AutomatedInventory(3, \"Automated Warehouse\", 8, \"High\");\n",
    "automatedInventory.AddItem(\"Robot\");\n",
    "automatedInventory.RemoveItem(\"Robot\");\n",
    "Console.WriteLine(automatedInventory.GetStorageStatus());"
   ]
  }
 ],
 "metadata": {
  "kernelspec": {
   "display_name": ".NET (C#)",
   "language": "C#",
   "name": ".net-csharp"
  },
  "polyglot_notebook": {
   "kernelInfo": {
    "defaultKernelName": "csharp",
    "items": [
     {
      "aliases": [],
      "languageName": "csharp",
      "name": "csharp"
     }
    ]
   }
  }
 },
 "nbformat": 4,
 "nbformat_minor": 2
}
