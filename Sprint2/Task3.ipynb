{
 "cells": [
  {
   "cell_type": "markdown",
   "metadata": {},
   "source": [
    "<h1 style=\"color:DodgerBlue\">Индивидальный проект</h1>"
   ]
  },
  {
   "cell_type": "markdown",
   "metadata": {},
   "source": [
    "<h2 style=\"color:DodgerBlue\">Название проекта:</h2>\n",
    "\n",
    "----\n",
    "\n",
    "### Вариант задания \n"
   ]
  },
  {
   "cell_type": "markdown",
   "metadata": {},
   "source": [
    "12"
   ]
  },
  {
   "cell_type": "markdown",
   "metadata": {},
   "source": [
    "<h2 style=\"color:DodgerBlue\">Описание проекта:</h2>\n",
    "\n",
    "----\n",
    "\n",
    "[Создать базовый класс Item в C#, который будет представлять информацию о\n",
    "товарах, которые могут быть заказаны или возвращены. На основе этого класса\n",
    "разработать 2-3 производных класса, демонстрирующих принципы наследования и\n",
    "полиморфизма. В каждом из классов должны быть реализованы новые атрибуты и\n",
    "методы, а также переопределены некоторые методы базового класса для\n",
    "демонстрации полиморфизма.\n",
    "]\n",
    "\n",
    "#### Дополнительное задание\n",
    "Добавьте к сущестующим классам (базовыму и производным 3-4 атрибута и метода) и реализуйте простое, сложное и множественное наследование"
   ]
  },
  {
   "cell_type": "markdown",
   "metadata": {},
   "source": [
    "<h2 style=\"color:DodgerBlue\">Реализация:</h2>\n",
    "\n",
    "----"
   ]
  },
  {
   "cell_type": "markdown",
   "metadata": {},
   "source": [
    "Интерфейс класса Item:"
   ]
  },
  {
   "cell_type": "code",
   "execution_count": 34,
   "metadata": {
    "dotnet_interactive": {
     "language": "csharp"
    },
    "polyglot_notebook": {
     "kernelName": "csharp"
    }
   },
   "outputs": [],
   "source": [
    "using System;\n",
    "\n",
    "\n",
    "public interface IItem\n",
    "{\n",
    "    int ItemId { get; set; }\n",
    "    string Name { get; set; }\n",
    "    decimal Price { get; set; }\n",
    "    \n",
    "    void GetDetails();\n",
    "    void CalculateDiscount(decimal discount);\n",
    "    void ApplyDiscount(decimal discount);\n",
    "}"
   ]
  },
  {
   "cell_type": "markdown",
   "metadata": {},
   "source": [
    "Базовый класс Item:"
   ]
  },
  {
   "cell_type": "code",
   "execution_count": 39,
   "metadata": {
    "dotnet_interactive": {
     "language": "csharp"
    },
    "polyglot_notebook": {
     "kernelName": "csharp"
    }
   },
   "outputs": [],
   "source": [
    "public class Item: IItem\n",
    "{\n",
    "    public int ItemId { get; set; }\n",
    "    public string Name { get; set; }\n",
    "    public decimal Price { get; set; }\n",
    "\n",
    "    public Item(int itemId, string name, decimal price)\n",
    "    {\n",
    "        ItemId = itemId;\n",
    "        Name = name;\n",
    "        Price = price;\n",
    "    }\n",
    "\n",
    "    public virtual void GetDetails()\n",
    "    {\n",
    "        Console.WriteLine($\"ID товара: {ItemId}\");\n",
    "        Console.WriteLine($\"Название товара: {Name}\");\n",
    "        Console.WriteLine($\"Цена товара: {Price}\");\n",
    "    }\n",
    "\n",
    "    public virtual void CalculateDiscount(decimal discount)\n",
    "    {\n",
    "        Price -= (Price * discount);\n",
    "    }\n",
    "\n",
    "    public virtual void ApplyDiscount(decimal discount)\n",
    "    {\n",
    "        CalculateDiscount(discount);\n",
    "        // Console.WriteLine($\"Цена после расчета скидки: {Price}\");\n",
    "    }\n",
    "}\n"
   ]
  },
  {
   "cell_type": "markdown",
   "metadata": {},
   "source": [
    " Производный класс Singleitem:"
   ]
  },
  {
   "cell_type": "code",
   "execution_count": 32,
   "metadata": {
    "dotnet_interactive": {
     "language": "csharp"
    },
    "polyglot_notebook": {
     "kernelName": "csharp"
    }
   },
   "outputs": [],
   "source": [
    "public class SingleItem: Item\n",
    "{\n",
    "    public string UnitMeasure { get; set; }\n",
    "\n",
    "    public SingleItem(\n",
    "        int itemId, string name, decimal price, string unitMeasure\n",
    "        ) : base(itemId, name, price)\n",
    "    {\n",
    "        UnitMeasure = unitMeasure;\n",
    "    }\n",
    "\n",
    "    public override void GetDetails()\n",
    "    {\n",
    "        base.GetDetails();\n",
    "        Console.WriteLine($\"Единица измерения: {UnitMeasure}\");\n",
    "    }\n",
    "}"
   ]
  },
  {
   "cell_type": "markdown",
   "metadata": {},
   "source": [
    "Производный класс PackageItem:"
   ]
  },
  {
   "cell_type": "code",
   "execution_count": 37,
   "metadata": {
    "dotnet_interactive": {
     "language": "csharp"
    },
    "polyglot_notebook": {
     "kernelName": "csharp"
    }
   },
   "outputs": [],
   "source": [
    "public class PackageItem : Item\n",
    "{\n",
    "    public int QuantityPerPackage { get; set; }\n",
    "\n",
    "    public PackageItem(\n",
    "        int itemId, string name, decimal price, int quantityPerPackage\n",
    "        ) : base(itemId, name, price)\n",
    "    {\n",
    "        QuantityPerPackage = quantityPerPackage;\n",
    "        Price = price * QuantityPerPackage;\n",
    "    }\n",
    "\n",
    "    public override void CalculateDiscount(decimal discount)\n",
    "    {\n",
    "        Price -= (Price * discount);\n",
    "    }\n",
    "\n",
    "    public override void ApplyDiscount(decimal discount)\n",
    "    {\n",
    "        CalculateDiscount(discount);\n",
    "        Console.WriteLine($\"Цена после расчета скидки: {Price}\");\n",
    "    }\n",
    "}"
   ]
  },
  {
   "cell_type": "markdown",
   "metadata": {},
   "source": [
    "Производный класс SpecialItem:"
   ]
  },
  {
   "cell_type": "code",
   "execution_count": 35,
   "metadata": {
    "dotnet_interactive": {
     "language": "csharp"
    },
    "polyglot_notebook": {
     "kernelName": "csharp"
    }
   },
   "outputs": [],
   "source": [
    "public class SpecialItem : Item\n",
    "{\n",
    "    public DateTime DiscountExpirationDate { get; set; }\n",
    "\n",
    "    public SpecialItem(\n",
    "        int itemId, string name, decimal price, DateTime discountExpirationDate) : base(itemId, name, price)\n",
    "    {\n",
    "        DiscountExpirationDate = discountExpirationDate;\n",
    "    }\n",
    "\n",
    "    public override void ApplyDiscount(decimal discount)\n",
    "    {\n",
    "        base.ApplyDiscount(discount);\n",
    "        Console.WriteLine($\"Срок действия скидки до: {DiscountExpirationDate}\");\n",
    "    }\n",
    "}"
   ]
  },
  {
   "cell_type": "markdown",
   "metadata": {},
   "source": [
    "Взаимодействие классов:"
   ]
  },
  {
   "cell_type": "code",
   "execution_count": 40,
   "metadata": {
    "dotnet_interactive": {
     "language": "csharp"
    },
    "polyglot_notebook": {
     "kernelName": "csharp"
    }
   },
   "outputs": [
    {
     "ename": "Error",
     "evalue": "(1,1): error CS0246: The type or namespace name 'SingleItem' could not be found (are you missing a using directive or an assembly reference?)\r\n(4,1): error CS0246: The type or namespace name 'PackageItem' could not be found (are you missing a using directive or an assembly reference?)\r\n(8,1): error CS0246: The type or namespace name 'SpecialItem' could not be found (are you missing a using directive or an assembly reference?)\r\n(1,29): error CS0246: The type or namespace name 'SingleItem' could not be found (are you missing a using directive or an assembly reference?)\r\n(4,31): error CS0246: The type or namespace name 'PackageItem' could not be found (are you missing a using directive or an assembly reference?)\r\n(8,31): error CS0246: The type or namespace name 'SpecialItem' could not be found (are you missing a using directive or an assembly reference?)",
     "output_type": "error",
     "traceback": [
      "(1,1): error CS0246: The type or namespace name 'SingleItem' could not be found (are you missing a using directive or an assembly reference?)\r\n",
      "(4,1): error CS0246: The type or namespace name 'PackageItem' could not be found (are you missing a using directive or an assembly reference?)\r\n",
      "(8,1): error CS0246: The type or namespace name 'SpecialItem' could not be found (are you missing a using directive or an assembly reference?)\r\n",
      "(1,29): error CS0246: The type or namespace name 'SingleItem' could not be found (are you missing a using directive or an assembly reference?)\r\n",
      "(4,31): error CS0246: The type or namespace name 'PackageItem' could not be found (are you missing a using directive or an assembly reference?)\r\n",
      "(8,31): error CS0246: The type or namespace name 'SpecialItem' could not be found (are you missing a using directive or an assembly reference?)"
     ]
    }
   ],
   "source": [
    "SingleItem singleItem = new SingleItem(1, \"молоко\", 2.5m, \"литр\");\n",
    "singleItem.GetDetails();\n",
    "\n",
    "PackageItem packageItem = new PackageItem(2, \"мука\", 1.8m, 1000);\n",
    "packageItem.ApplyDiscount(0.1m);\n",
    "\n",
    "\n",
    "SpecialItem specialItem = new SpecialItem(3, \"школад\", 3.0m, DateTime.Now.AddDays(30));\n",
    "specialItem.ApplyDiscount(0.1m);"
   ]
  }
 ],
 "metadata": {
  "kernelspec": {
   "display_name": ".NET (C#)",
   "language": "C#",
   "name": ".net-csharp"
  },
  "polyglot_notebook": {
   "kernelInfo": {
    "defaultKernelName": "csharp",
    "items": [
     {
      "aliases": [],
      "languageName": "csharp",
      "name": "csharp"
     }
    ]
   }
  }
 },
 "nbformat": 4,
 "nbformat_minor": 2
}
