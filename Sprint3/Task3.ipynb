{
 "cells": [
  {
   "cell_type": "markdown",
   "metadata": {},
   "source": [
    "<h1 style=\"color:DodgerBlue\">Индивидальный проект</h1>"
   ]
  },
  {
   "cell_type": "markdown",
   "metadata": {},
   "source": [
    "<h2 style=\"color:DodgerBlue\">Название проекта:</h2> Item\n",
    "\n",
    "\n",
    "### Вариант задания 12\n"
   ]
  },
  {
   "cell_type": "markdown",
   "metadata": {},
   "source": [
    "<h2 style=\"color:DodgerBlue\">Описание проекта:</h2>\n",
    "\n",
    "----\n",
    "\n",
    "Создать базовый класс Item в C#, который будет представлять информацию о\n",
    "товарах, которые могут быть заказаны или возвращены. На основе этого класса\n",
    "разработать 2-3 производных класса, демонстрирующих принципы наследования и\n",
    "полиморфизма. В каждом из классов должны быть реализованы новые атрибуты и\n",
    "методы, а также переопределены некоторые методы базового класса для\n",
    "демонстрации полиморфизма.\n",
    "\n",
    "#### Дополнительное задание\n",
    "Добавьте к сущестующим классам (базовыму и производным 3-4 атрибута и метода) и реализуйте полиморфизм с перекрытием и прегегрузкой методов, а также generic классы"
   ]
  },
  {
   "cell_type": "markdown",
   "metadata": {},
   "source": [
    "<h2 style=\"color:DodgerBlue\">Реализация:</h2>\n",
    "\n",
    "----"
   ]
  },
  {
   "cell_type": "markdown",
   "metadata": {},
   "source": [
    "Интерфейс класса Item:"
   ]
  },
  {
   "cell_type": "code",
   "execution_count": null,
   "metadata": {
    "dotnet_interactive": {
     "language": "csharp"
    },
    "polyglot_notebook": {
     "kernelName": "csharp"
    }
   },
   "outputs": [],
   "source": [
    "using System;\n",
    "\n",
    "\n",
    "public interface IItem\n",
    "{\n",
    "    int ItemID { get; set; }\n",
    "    string Name { get; set; }\n",
    "    decimal Price { get; set; }\n",
    "    \n",
    "    void GetDetails();\n",
    "    void CalculateDiscount(decimal discount);\n",
    "    void ApplyDiscount(decimal discount);\n",
    "\n",
    "}"
   ]
  },
  {
   "cell_type": "markdown",
   "metadata": {},
   "source": [
    "Базовый класс Item:"
   ]
  },
  {
   "cell_type": "code",
   "execution_count": null,
   "metadata": {},
   "outputs": [],
   "source": [
    "public class Item : IItem\n",
    "{\n",
    "    public int ItemID { get; set; }\n",
    "    public string Name { get; set; }\n",
    "    public decimal Price { get; set; }\n",
    "\n",
    "    public Item(int itemID, string name, decimal price)\n",
    "    {\n",
    "        ItemID = itemID;\n",
    "        Name = name;\n",
    "        Price = price;\n",
    "    }\n",
    "\n",
    "    public virtual void GetDetails()\n",
    "    {\n",
    "        Console.WriteLine($\"ID товара: {ItemID}\");\n",
    "        Console.WriteLine($\"Название товара: {Name}\");\n",
    "        Console.WriteLine($\"Цена товара: {Price}\");\n",
    "    }\n",
    "\n",
    "    public virtual void CalculateDiscount(decimal discount)\n",
    "    {\n",
    "        Price -= (Price * discount);\n",
    "    }\n",
    "\n",
    "    public virtual void CalculateDiscount(decimal discount, int quantity)\n",
    "    {\n",
    "        Price -= (Price * discount * quantity);\n",
    "    }\n",
    "\n",
    "    public virtual void ApplyDiscount(decimal discount)\n",
    "    {\n",
    "        CalculateDiscount(discount);\n",
    "    }\n",
    "}"
   ]
  },
  {
   "cell_type": "markdown",
   "metadata": {},
   "source": [
    "Производный класс Singleitem:"
   ]
  },
  {
   "cell_type": "code",
   "execution_count": null,
   "metadata": {},
   "outputs": [],
   "source": [
    "public class SingleItem : Item\n",
    "{\n",
    "    public string UnitMeasure { get; set; }\n",
    "\n",
    "    public SingleItem(\n",
    "        int itemId, string name, decimal price, string unitMeasure\n",
    "        ) : base(itemId, name, price)\n",
    "    {\n",
    "        UnitMeasure = unitMeasure;\n",
    "    }\n",
    "\n",
    "    public override void GetDetails()\n",
    "    {\n",
    "        base.GetDetails();\n",
    "        Console.WriteLine($\"Единица измерения: {UnitMeasure}\");\n",
    "    }\n",
    "}"
   ]
  },
  {
   "cell_type": "markdown",
   "metadata": {},
   "source": [
    "Производный класс PackageItem:"
   ]
  },
  {
   "cell_type": "code",
   "execution_count": null,
   "metadata": {},
   "outputs": [],
   "source": [
    "public class PackageItem : Item\n",
    "{\n",
    "    public int QuantityPerPackage { get; set; }\n",
    "\n",
    "    public PackageItem(\n",
    "        int itemId, string name, decimal price, int quantityPerPackage\n",
    "        ) : base(itemId, name, price)\n",
    "    {\n",
    "        QuantityPerPackage = quantityPerPackage;\n",
    "        Price = price * QuantityPerPackage;\n",
    "    }\n",
    "\n",
    "    public override void CalculateDiscount(decimal discount)\n",
    "    {\n",
    "        Price -= (Price * discount);\n",
    "    }\n",
    "\n",
    "    public override void CalculateDiscount(decimal discount, int quantity)\n",
    "    {\n",
    "        Price -= (Price * discount * quantity);\n",
    "    }\n",
    "\n",
    "    public override void GetDetails()\n",
    "{\n",
    "    base.GetDetails();\n",
    "    Console.WriteLine($\"Количество товара в пакете: {QuantityPerPackage}\");\n",
    "}\n",
    "}"
   ]
  },
  {
   "cell_type": "code",
   "execution_count": null,
   "metadata": {},
   "outputs": [],
   "source": [
    "using System.Collections.Generic;\n",
    "\n",
    "\n",
    "public class ItemCollection<T> where T : Item\n",
    "{\n",
    "    private List<T> _items = new List<T>();\n",
    "\n",
    "    \n",
    "    public void Add(T item)\n",
    "    {\n",
    "        _items.Add(item);\n",
    "    }\n",
    "\n",
    "    public void Remove(T item)\n",
    "    {\n",
    "        _items.Remove(item);\n",
    "    }\n",
    "\n",
    "    public void DisplayItems()\n",
    "    {\n",
    "        foreach (var item in _items)\n",
    "        {\n",
    "            item.GetDetails();\n",
    "        }\n",
    "    }\n",
    "}"
   ]
  },
  {
   "cell_type": "markdown",
   "metadata": {},
   "source": [
    "Реализация взаимодействия между классами:"
   ]
  },
  {
   "cell_type": "code",
   "execution_count": null,
   "metadata": {
    "dotnet_interactive": {
     "language": "csharp"
    },
    "polyglot_notebook": {
     "kernelName": "csharp"
    }
   },
   "outputs": [
    {
     "name": "stdout",
     "output_type": "stream",
     "text": [
      "ID товара: 1\n",
      "Название товара: вода\n",
      "Цена товара: 50.0\n",
      "Единица измерения: литр\n",
      "ID товара: 2\n",
      "Название товара: коробка с водой\n",
      "Цена товара: 1500.0\n",
      "Количество товара в пакете: 50\n"
     ]
    }
   ],
   "source": [
    "ItemCollection<Item> items = new ItemCollection<Item>();\n",
    "items.Add(new SingleItem(1, \"вода\", 50.0m, \"литр\"));\n",
    "items.Add(new PackageItem(2, \"коробка с водой\", 30.0m, 50));\n",
    "\n",
    "items.DisplayItems();"
   ]
  }
 ],
 "metadata": {
  "kernelspec": {
   "display_name": ".NET (C#)",
   "language": "C#",
   "name": ".net-csharp"
  },
  "polyglot_notebook": {
   "kernelInfo": {
    "defaultKernelName": "csharp",
    "items": [
     {
      "aliases": [],
      "languageName": "csharp",
      "name": "csharp"
     }
    ]
   }
  }
 },
 "nbformat": 4,
 "nbformat_minor": 2
}
