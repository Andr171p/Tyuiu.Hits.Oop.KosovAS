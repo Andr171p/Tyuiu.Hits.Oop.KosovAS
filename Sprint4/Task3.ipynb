{
 "cells": [
  {
   "cell_type": "markdown",
   "metadata": {},
   "source": [
    "<h1 style=\"color:DodgerBlue\">Индивидальный проект</h1>"
   ]
  },
  {
   "cell_type": "markdown",
   "metadata": {},
   "source": [
    "<h2 style=\"color:DodgerBlue\">Название проекта:</h2>\n",
    "\n",
    "----\n",
    "\n",
    "### Вариант задания 13\n"
   ]
  },
  {
   "cell_type": "markdown",
   "metadata": {},
   "source": [
    "<h2 style=\"color:DodgerBlue\">Описание проекта:</h2>\n",
    "\n",
    "----\n",
    "\n",
    "[ваш текст]\n",
    "\n",
    "#### Дополнительное задание\n",
    "Добавьте к сущестующим классам (базовыму и производным 3-4 атрибута и метода) создайте явную реализации интерфейса и управление зависимостями \n"
   ]
  },
  {
   "cell_type": "markdown",
   "metadata": {},
   "source": [
    "<h2 style=\"color:DodgerBlue\">Реализация:</h2>\n",
    "\n",
    "----"
   ]
  },
  {
   "cell_type": "code",
   "execution_count": null,
   "metadata": {
    "dotnet_interactive": {
     "language": "csharp"
    },
    "polyglot_notebook": {
     "kernelName": "csharp"
    }
   },
   "outputs": [],
   "source": [
    "public abstract class Item\n",
    "{\n",
    "    // Атрибуты\n",
    "    public int ItemId { get; set; }\n",
    "    public string Name { get; set; }\n",
    "    public decimal Price { get; set; }\n",
    "\n",
    "    // Конструктор\n",
    "    public Item(int itemId, string name, decimal price)\n",
    "    {\n",
    "        ItemId = itemId;\n",
    "        Name = name;\n",
    "        Price = price;\n",
    "    }\n",
    "\n",
    "    public virtual string GetDetails()\n",
    "    {\n",
    "        return $\"ID: {ItemId}, Название: {Name}, Цена: {Price:C}\";\n",
    "    }\n",
    "\n",
    "    public virtual decimal CalculateDiscount()\n",
    "    {\n",
    "        return Price * 0.05m;\n",
    "    }\n",
    "\n",
    "    public virtual void ApplyDiscount(decimal discount)\n",
    "    {\n",
    "        Price -= discount;\n",
    "    }\n",
    "}"
   ]
  },
  {
   "cell_type": "code",
   "execution_count": null,
   "metadata": {},
   "outputs": [],
   "source": [
    "public class SingleItem : Item\n",
    "{\n",
    "    public string UnitMeasure { get; set; }\n",
    "\n",
    "    public SingleItem(int itemId, string name, decimal price, string unitMeasure) \n",
    "        : base(itemId, name, price)\n",
    "    {\n",
    "        UnitMeasure = unitMeasure;\n",
    "    }\n",
    "\n",
    "    public override string GetDetails()\n",
    "    {\n",
    "        return $\"{base.GetDetails()}, Ед. измерения: {UnitMeasure}\";\n",
    "    }\n",
    "}"
   ]
  },
  {
   "cell_type": "code",
   "execution_count": null,
   "metadata": {},
   "outputs": [],
   "source": [
    "public class PackageItem : Item\n",
    "{\n",
    "    public int QuantityPerPackage { get; set; }\n",
    "\n",
    "    public PackageItem(int itemId, string name, decimal price, int quantityPerPackage) \n",
    "        : base(itemId, name, price)\n",
    "    {\n",
    "        QuantityPerPackage = quantityPerPackage;\n",
    "    }\n",
    "\n",
    "    public override decimal CalculateDiscount()\n",
    "    {\n",
    "        if (QuantityPerPackage >= 10)\n",
    "            return Price * 0.15m;\n",
    "        else\n",
    "            return base.CalculateDiscount();\n",
    "    }\n",
    "}"
   ]
  },
  {
   "cell_type": "code",
   "execution_count": null,
   "metadata": {},
   "outputs": [],
   "source": [
    "using System;\n",
    "\n",
    "public class SpecialItem : Item\n",
    "{\n",
    "    public DateTime DiscountExpirationDate { get; set; }\n",
    "\n",
    "    public SpecialItem(int itemId, string name, decimal price, DateTime discountExpirationDate) \n",
    "        : base(itemId, name, price)\n",
    "    {\n",
    "        DiscountExpirationDate = discountExpirationDate;\n",
    "    }\n",
    "\n",
    "    public override void ApplyDiscount(decimal discount)\n",
    "    {\n",
    "        if (DateTime.Now <= DiscountExpirationDate)\n",
    "            base.ApplyDiscount(discount);\n",
    "    }\n",
    "\n",
    "    public override string ToString()\n",
    "    {\n",
    "        return $\"Специальный товар: {base.GetDetails()}\";\n",
    "    }\n",
    "}"
   ]
  },
  {
   "cell_type": "code",
   "execution_count": null,
   "metadata": {},
   "outputs": [],
   "source": [
    "public class ItemService\n",
    "{\n",
    "    private readonly Item _item;\n",
    "\n",
    "    public ItemService(Item item)\n",
    "    {\n",
    "        _item = item;\n",
    "    }\n",
    "\n",
    "    public void DisplayItemDetails()\n",
    "    {\n",
    "        Console.WriteLine(_item.GetDetails());\n",
    "    }\n",
    "\n",
    "    public void ApplyAndDisplayDiscount()\n",
    "    {\n",
    "        var discount = _item.CalculateDiscount();\n",
    "        _item.ApplyDiscount(discount);\n",
    "        Console.WriteLine($\"Скидка применена: новая цена {_item.Price:C}\");\n",
    "    }\n",
    "}"
   ]
  },
  {
   "cell_type": "code",
   "execution_count": null,
   "metadata": {},
   "outputs": [
    {
     "name": "stdout",
     "output_type": "stream",
     "text": [
      "ID: 1, Название: Яблоко, Цена: ¤50.00, Ед. измерения: кг\n",
      "Скидка применена: новая цена ¤47.50\n",
      "ID: 2, Название: Молочный шоколад, Цена: ¤100.00\n",
      "Скидка применена: новая цена ¤85.00\n",
      "ID: 3, Название: Сыр, Цена: ¤200.00\n",
      "Скидка применена: новая цена ¤190.00\n"
     ]
    }
   ],
   "source": [
    "var singleItem = new SingleItem(1, \"Яблоко\", 50, \"кг\");\n",
    "var packageItem = new PackageItem(2, \"Молочный шоколад\", 100, 12);\n",
    "var specialItem = new SpecialItem(3, \"Сыр\", 200, DateTime.Today.AddDays(7));\n",
    "\n",
    "ItemService singleItemService = new ItemService(singleItem);\n",
    "singleItemService.DisplayItemDetails();\n",
    "singleItemService.ApplyAndDisplayDiscount();\n",
    "\n",
    "\n",
    "ItemService packageItemService = new ItemService(packageItem);\n",
    "packageItemService.DisplayItemDetails();\n",
    "packageItemService.ApplyAndDisplayDiscount();\n",
    "\n",
    "ItemService specialItemService = new ItemService(specialItem);\n",
    "specialItemService.DisplayItemDetails();\n",
    "specialItemService.ApplyAndDisplayDiscount();"
   ]
  }
 ],
 "metadata": {
  "kernelspec": {
   "display_name": ".NET (C#)",
   "language": "C#",
   "name": ".net-csharp"
  },
  "polyglot_notebook": {
   "kernelInfo": {
    "defaultKernelName": "csharp",
    "items": [
     {
      "aliases": [],
      "languageName": "csharp",
      "name": "csharp"
     }
    ]
   }
  }
 },
 "nbformat": 4,
 "nbformat_minor": 2
}
