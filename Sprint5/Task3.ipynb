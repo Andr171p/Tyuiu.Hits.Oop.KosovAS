{
 "cells": [
  {
   "cell_type": "markdown",
   "metadata": {},
   "source": [
    "<h1 style=\"color:DodgerBlue\">Индивидальный проект</h1>"
   ]
  },
  {
   "cell_type": "markdown",
   "metadata": {},
   "source": [
    "<h2 style=\"color:DodgerBlue\">Название проекта:</h2>\n",
    "\n",
    "----\n",
    "\n",
    "### Вариант задания \n"
   ]
  },
  {
   "cell_type": "markdown",
   "metadata": {},
   "source": [
    "<h2 style=\"color:DodgerBlue\">Описание проекта:</h2>\n",
    "\n",
    "----\n",
    "\n",
    "[ваш текст]\n",
    "\n",
    "#### Дополнительное задание\n",
    "Добавьте к сущестующим классам (базовыму и производным 3-4 атрибута и метода) исользуйтие в проекте коллекции, делегаты, события.\n"
   ]
  },
  {
   "cell_type": "markdown",
   "metadata": {},
   "source": [
    "<h2 style=\"color:DodgerBlue\">Реализация:</h2>\n",
    "\n",
    "----"
   ]
  },
  {
   "cell_type": "code",
   "execution_count": null,
   "metadata": {},
   "outputs": [],
   "source": [
    "using System;\n",
    "using System.Collections.Generic;"
   ]
  },
  {
   "cell_type": "markdown",
   "metadata": {},
   "source": [
    "Базовый класс Item"
   ]
  },
  {
   "cell_type": "code",
   "execution_count": null,
   "metadata": {
    "dotnet_interactive": {
     "language": "csharp"
    },
    "polyglot_notebook": {
     "kernelName": "csharp"
    }
   },
   "outputs": [],
   "source": [
    "public class Item\n",
    "{\n",
    "    public string ItemId { get; set; }\n",
    "    public string Name { get; set; }\n",
    "    public decimal Price { get; private set; }\n",
    "    public bool IsAvailable { get; set; }\n",
    "    public DateTime LastUpdated { get; set; }\n",
    "\n",
    "    public Item(string itemId, string name, decimal price, bool isAvailable, DateTime lastUpdated)\n",
    "    {\n",
    "        ItemId = itemId;\n",
    "        Name = name;\n",
    "        Price = price;\n",
    "        IsAvailable = isAvailable;\n",
    "        LastUpdated = lastUpdated;\n",
    "    }\n",
    "\n",
    "    public void UpdateAvailability(bool newAvailability)\n",
    "    {\n",
    "        IsAvailable = newAvailability;\n",
    "        LastUpdated = DateTime.Now;\n",
    "    }\n",
    "\n",
    "    public virtual void ApplyDiscount(decimal discount)\n",
    "    {\n",
    "        Price -= Math.Round(Price * discount / 100, 2);\n",
    "    }\n",
    "\n",
    "    public virtual decimal CalculateDiscount(int quantity)\n",
    "    {\n",
    "        return 0;\n",
    "    }\n",
    "\n",
    "    public virtual string GetDetails()\n",
    "    {\n",
    "        return $\"ID: {ItemId}, Название: {Name}, Цена: {Price}\";\n",
    "    }\n",
    "\n",
    "    public virtual void PrintFullDetails()\n",
    "    {\n",
    "        Console.WriteLine(GetDetails());\n",
    "    }\n",
    "}"
   ]
  },
  {
   "cell_type": "markdown",
   "metadata": {},
   "source": [
    "Производный класс SingleItem"
   ]
  },
  {
   "cell_type": "code",
   "execution_count": null,
   "metadata": {},
   "outputs": [],
   "source": [
    "public class SingleItem : Item\n",
    "{\n",
    "    public string UnitMeasure { get; set; }\n",
    "    public string Manufacturer { get; set; }\n",
    "    public string Description { get; set; }\n",
    "\n",
    "    public SingleItem(\n",
    "        string itemId, \n",
    "        string name, \n",
    "        decimal price, \n",
    "        string unitMeasure, \n",
    "        string manufacturer, \n",
    "        string description, \n",
    "        bool isAvailable, \n",
    "        DateTime lastUpdated\n",
    "    ) : base(itemId, name, price, isAvailable, lastUpdated)\n",
    "    {\n",
    "        UnitMeasure = unitMeasure;\n",
    "        Manufacturer = manufacturer;\n",
    "        Description = description;\n",
    "    }\n",
    "\n",
    "    public override string GetDetails()\n",
    "    {\n",
    "        return $\"{base.GetDetails()}, Производитель: {Manufacturer}, Описание: {Description}, Единица измерения: {UnitMeasure}\";\n",
    "    }\n",
    "\n",
    "    public void PrintFullDetails()\n",
    "    {\n",
    "        Console.WriteLine(GetDetails());\n",
    "    }\n",
    "}"
   ]
  },
  {
   "cell_type": "markdown",
   "metadata": {},
   "source": [
    "Производный класс PackageItem"
   ]
  },
  {
   "cell_type": "code",
   "execution_count": null,
   "metadata": {},
   "outputs": [],
   "source": [
    "public class PackageItem : Item\n",
    "{\n",
    "    public int QuantityPerPackage { get; set; }\n",
    "    public string PackagingType { get; set; }\n",
    "    public string Brand { get; set; }\n",
    "\n",
    "    public PackageItem(\n",
    "        string itemId, \n",
    "        string name, \n",
    "        decimal price, \n",
    "        int quantityPerPackage, \n",
    "        string packagingType, \n",
    "        string brand, \n",
    "        bool isAvailable, \n",
    "        DateTime lastUpdated\n",
    "        ) : base(itemId, name, price, isAvailable, lastUpdated)\n",
    "    {\n",
    "        QuantityPerPackage = quantityPerPackage;\n",
    "        PackagingType = packagingType;\n",
    "        Brand = brand;\n",
    "    }\n",
    "\n",
    "    public override decimal CalculateDiscount(int quantity)\n",
    "    {\n",
    "        decimal discountPercentage = 0;\n",
    "        if (quantity >= 10 && quantity < 20)\n",
    "        {\n",
    "            discountPercentage = 5;\n",
    "        }\n",
    "        else if (quantity >= 20)\n",
    "        {\n",
    "            discountPercentage = 10;\n",
    "        }\n",
    "        return discountPercentage;\n",
    "    }\n",
    "\n",
    "    public override string GetDetails()\n",
    "    {\n",
    "        return $\"{base.GetDetails()}, Тип упаковки: {PackagingType}, Бренд: {Brand}, Кол-во в упаковке: {QuantityPerPackage}\";\n",
    "    }\n",
    "\n",
    "    public void PrintFullDetails()\n",
    "    {\n",
    "        Console.WriteLine(GetDetails());\n",
    "    }\n",
    "}"
   ]
  },
  {
   "cell_type": "markdown",
   "metadata": {},
   "source": [
    "Производный класс SpecialItem"
   ]
  },
  {
   "cell_type": "code",
   "execution_count": null,
   "metadata": {},
   "outputs": [],
   "source": [
    "public class SpecialItem : Item\n",
    "{\n",
    "    public DateTime DiscountExpirationDate { get; set; }\n",
    "    public string PromotionCode { get; set; }\n",
    "    public string Category { get; set; }\n",
    "\n",
    "    public SpecialItem(\n",
    "        string itemId, \n",
    "        string name, \n",
    "        decimal price, \n",
    "        DateTime discountExpirationDate, \n",
    "        string promotionCode, \n",
    "        string category, \n",
    "        bool isAvailable, \n",
    "        DateTime lastUpdated\n",
    "    ) : base(itemId, name, price, isAvailable, lastUpdated)\n",
    "    {\n",
    "        DiscountExpirationDate = discountExpirationDate;\n",
    "        PromotionCode = promotionCode;\n",
    "        Category = category;\n",
    "    }\n",
    "\n",
    "    public override void ApplyDiscount(decimal discount)\n",
    "    {\n",
    "        if (DateTime.Now <= DiscountExpirationDate)\n",
    "        {\n",
    "            base.ApplyDiscount(discount);\n",
    "        }\n",
    "        else\n",
    "        {\n",
    "            Console.WriteLine($\"Скидка истекла ({DiscountExpirationDate}).\");\n",
    "        }\n",
    "    }\n",
    "\n",
    "    public override string GetDetails()\n",
    "    {\n",
    "        return $\"{base.GetDetails()}, Промо-код: {PromotionCode}, Категория: {Category}, Срок действия скидки: {DiscountExpirationDate.ToShortDateString()}\";\n",
    "    }\n",
    "\n",
    "    public void PrintFullDetails()\n",
    "    {\n",
    "        Console.WriteLine(GetDetails());\n",
    "    }\n",
    "}"
   ]
  },
  {
   "cell_type": "code",
   "execution_count": null,
   "metadata": {},
   "outputs": [],
   "source": [
    "public class InventoryManager\n",
    "{\n",
    "    private List<Item> items;\n",
    "\n",
    "    public InventoryManager()\n",
    "    {\n",
    "        items = new List<Item>();\n",
    "    }\n",
    "\n",
    "    public void AddItem(Item item)\n",
    "    {\n",
    "        items.Add(item);\n",
    "    }\n",
    "\n",
    "    public IEnumerable<Item> GetItems()\n",
    "    {\n",
    "        return items;\n",
    "    }\n",
    "\n",
    "    public void UpdateItemAvailability(string itemId, bool newAvailability)\n",
    "    {\n",
    "        var item = items.Find(i => i.ItemId == itemId);\n",
    "        if (item != null)\n",
    "        {\n",
    "            item.UpdateAvailability(newAvailability);\n",
    "        }\n",
    "    }\n",
    "}"
   ]
  },
  {
   "cell_type": "code",
   "execution_count": null,
   "metadata": {},
   "outputs": [
    {
     "name": "stdout",
     "output_type": "stream",
     "text": [
      "ID: SI001, Название: Яблоко, Цена: 50, Производитель: Apple Inc., Описание: Красное яблоко, Единица измерения: кг\n",
      "ID: PI002, Название: Батарейки, Цена: 150, Тип упаковки: Пластиковая упаковка, Бренд: Duracell, Кол-во в упаковке: 12\n",
      "ID: SP003, Название: Телефон, Цена: 5000, Промо-код: PROMO123, Категория: Электроника, Срок действия скидки: 12/31/2023\n"
     ]
    }
   ],
   "source": [
    "InventoryManager inventory = new InventoryManager();\n",
    "\n",
    "SingleItem singleItem = new SingleItem(\"SI001\", \"Яблоко\", 50, \"кг\", \"Apple Inc.\", \"Красное яблоко\", true, DateTime.Now);\n",
    "PackageItem packageItem = new PackageItem(\"PI002\", \"Батарейки\", 150, 12, \"Пластиковая упаковка\", \"Duracell\", true, DateTime.Now);\n",
    "SpecialItem specialItem = new SpecialItem(\"SP003\", \"Телефон\", 5000, new DateTime(2023, 12, 31), \"PROMO123\", \"Электроника\", true, DateTime.Now);\n",
    "\n",
    "inventory.AddItem(singleItem);\n",
    "inventory.AddItem(packageItem);\n",
    "inventory.AddItem(specialItem);\n",
    "\n",
    "foreach (var item in inventory.GetItems())\n",
    "{\n",
    "    item.PrintFullDetails();\n",
    "}\n",
    "\n",
    "inventory.UpdateItemAvailability(\"SI001\", false);"
   ]
  }
 ],
 "metadata": {
  "kernelspec": {
   "display_name": ".NET (C#)",
   "language": "C#",
   "name": ".net-csharp"
  },
  "polyglot_notebook": {
   "kernelInfo": {
    "defaultKernelName": "csharp",
    "items": [
     {
      "aliases": [],
      "languageName": "csharp",
      "name": "csharp"
     }
    ]
   }
  }
 },
 "nbformat": 4,
 "nbformat_minor": 2
}
